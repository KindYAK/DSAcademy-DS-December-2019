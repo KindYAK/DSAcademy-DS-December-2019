{
 "cells": [
  {
   "cell_type": "code",
   "execution_count": 29,
   "metadata": {},
   "outputs": [],
   "source": [
    "a = [-1, 3, -500, 100, -500]"
   ]
  },
  {
   "cell_type": "code",
   "execution_count": 30,
   "metadata": {},
   "outputs": [
    {
     "name": "stdout",
     "output_type": "stream",
     "text": [
      "-1 3\n",
      "3 -500\n",
      "-500 100\n",
      "100 -500\n",
      "NO\n"
     ]
    }
   ],
   "source": [
    "has_same_sign_pair = False\n",
    "for i in range(len(a) - 1):\n",
    "    print(a[i], a[i+1])\n",
    "    if a[i]*a[i+1] > 0:\n",
    "        has_same_sign_pair = True\n",
    "        break\n",
    "if has_same_sign_pair:\n",
    "    print(\"YES\")\n",
    "else:\n",
    "    print(\"NO\")"
   ]
  },
  {
   "cell_type": "code",
   "execution_count": 8,
   "metadata": {},
   "outputs": [
    {
     "name": "stdout",
     "output_type": "stream",
     "text": [
      "1\n",
      "3\n",
      "500\n",
      "100\n",
      "500\n"
     ]
    }
   ],
   "source": [
    "# for i in a:\n",
    "#     print(i)"
   ]
  },
  {
   "cell_type": "code",
   "execution_count": 48,
   "metadata": {},
   "outputs": [],
   "source": [
    "a = [-5, -5, -5, -3, 0, 0, 0, 1, 1, 1, 1, 2, 2, 2, 3, 4, 5, 5, 5, 10, 15, 15, 100, 100, 105]\n",
    "# a = []"
   ]
  },
  {
   "cell_type": "code",
   "execution_count": 49,
   "metadata": {},
   "outputs": [
    {
     "name": "stdout",
     "output_type": "stream",
     "text": [
      "12\n"
     ]
    }
   ],
   "source": [
    "if len(a) == 0:\n",
    "    count = 0\n",
    "else:\n",
    "    count = 1\n",
    "for i in range(len(a) - 1):\n",
    "    if a[i] != a[i + 1]:\n",
    "        count = count + 1\n",
    "print(count)"
   ]
  },
  {
   "cell_type": "code",
   "execution_count": 50,
   "metadata": {},
   "outputs": [],
   "source": [
    "shops = [\n",
    "    {\n",
    "        \"name\": \"Magnum 3\",\n",
    "        \"address\": \"Almaty, 567898765\",\n",
    "        \"amount\": 60000,\n",
    "        \"telephone\": \"+777777747\",\n",
    "        \"region\": \"Astana\"\n",
    "    },\n",
    "    {\n",
    "        \"name\": \"Magnum 2\",\n",
    "        \"address\": \"Almaty, 567898765\",\n",
    "        \"amount\": 5000,\n",
    "        \"telephone\": \"+7778888\",\n",
    "        \"region\": \"Astana\"\n",
    "    },\n",
    "    {\n",
    "        \"name\": \"Magnum 1\",\n",
    "        \"address\": \"Almaty, 567898765\",\n",
    "        \"amount\": 10,\n",
    "        \"telephone\": \"++ 7 071 123123\",\n",
    "        \"region\": \"Astana\"\n",
    "    }\n",
    "]"
   ]
  },
  {
   "cell_type": "code",
   "execution_count": 51,
   "metadata": {},
   "outputs": [
    {
     "data": {
      "text/plain": [
       "60000"
      ]
     },
     "execution_count": 51,
     "metadata": {},
     "output_type": "execute_result"
    }
   ],
   "source": [
    "shop[\"amount\"]"
   ]
  },
  {
   "cell_type": "code",
   "execution_count": null,
   "metadata": {},
   "outputs": [],
   "source": []
  }
 ],
 "metadata": {
  "kernelspec": {
   "display_name": "Python 3",
   "language": "python",
   "name": "python3"
  },
  "language_info": {
   "codemirror_mode": {
    "name": "ipython",
    "version": 3
   },
   "file_extension": ".py",
   "mimetype": "text/x-python",
   "name": "python",
   "nbconvert_exporter": "python",
   "pygments_lexer": "ipython3",
   "version": "3.6.7"
  }
 },
 "nbformat": 4,
 "nbformat_minor": 2
}
