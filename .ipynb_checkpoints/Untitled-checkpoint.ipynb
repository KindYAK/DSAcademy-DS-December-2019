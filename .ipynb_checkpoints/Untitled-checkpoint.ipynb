{
 "cells": [
  {
   "cell_type": "code",
   "execution_count": 1,
   "metadata": {},
   "outputs": [],
   "source": []
  },
  {
   "cell_type": "code",
   "execution_count": 2,
   "metadata": {},
   "outputs": [],
   "source": [
    "# C - 100\n",
    "# L - 50\n",
    "# X - 10\n",
    "# IX - 9\n",
    "# XIII - 8\n",
    "# XII - 7"
   ]
  },
  {
   "cell_type": "code",
   "execution_count": 17,
   "metadata": {},
   "outputs": [
    {
     "name": "stdout",
     "output_type": "stream",
     "text": [
      "XCI 0\n"
     ]
    }
   ],
   "source": [
    "a = 91\n",
    "d = {\n",
    "    100: \"C\",\n",
    "    90: \"XC\",\n",
    "    50: \"L\",\n",
    "    40: \"XL\",\n",
    "    10: \"X\",\n",
    "    9: \"IX\",\n",
    "    5: \"V\",\n",
    "    4: \"IV\",\n",
    "    1: \"I\"\n",
    "}\n",
    "# res = \"\"\n",
    "# if a == 100:\n",
    "#     res = res + \"C\"\n",
    "#     a = a - 100\n",
    "# if a >= 90:\n",
    "#     res = res + \"XC\"\n",
    "#     a = a - 90\n",
    "# if a >= 50:\n",
    "#     res = res + \"L\"\n",
    "#     a = a - 50\n",
    "# if a >= 10:\n",
    "#     n_x = a // 10\n",
    "#     res = res + \"X\"*n_x\n",
    "#     a = a - n_x * 10\n",
    "# if a == 9:\n",
    "#     res = res + \"IX\"\n",
    "#     a = a - 9\n",
    "# if a >= 5:\n",
    "#     res = res + \"V\"\n",
    "#     a = a - 5\n",
    "#     res = res + \"I\"*a\n",
    "#     a = 0\n",
    "# if a == 4:\n",
    "#     res = res + \"IV\"\n",
    "#     a = a - 4\n",
    "# if a > 0:\n",
    "#     res = res + \"I\"*a\n",
    "#     a = 0\n",
    "# print(res, a)"
   ]
  },
  {
   "cell_type": "code",
   "execution_count": 21,
   "metadata": {},
   "outputs": [],
   "source": [
    "d = {\n",
    "    100: \"C\",\n",
    "    90: \"XC\",\n",
    "    50: \"L\",\n",
    "    40: \"XL\",\n",
    "    10: \"X\",\n",
    "    9: \"IX\",\n",
    "    5: \"V\",\n",
    "    4: \"IV\",\n",
    "    1: \"I\"\n",
    "}"
   ]
  },
  {
   "cell_type": "code",
   "execution_count": 25,
   "metadata": {},
   "outputs": [
    {
     "name": "stdout",
     "output_type": "stream",
     "text": [
      "90\n"
     ]
    }
   ],
   "source": [
    "a = 87\n",
    "while a > 0:\n",
    "    for key in d.keys():\n",
    "        if key < a:\n",
    "                    my_key = key\n",
    "\n",
    "            break\n",
    "    \n",
    "    print(my_key)\n",
    "    break"
   ]
  },
  {
   "cell_type": "code",
   "execution_count": null,
   "metadata": {},
   "outputs": [],
   "source": []
  }
 ],
 "metadata": {
  "kernelspec": {
   "display_name": "Python 3",
   "language": "python",
   "name": "python3"
  },
  "language_info": {
   "codemirror_mode": {
    "name": "ipython",
    "version": 3
   },
   "file_extension": ".py",
   "mimetype": "text/x-python",
   "name": "python",
   "nbconvert_exporter": "python",
   "pygments_lexer": "ipython3",
   "version": "3.6.7"
  }
 },
 "nbformat": 4,
 "nbformat_minor": 2
}
