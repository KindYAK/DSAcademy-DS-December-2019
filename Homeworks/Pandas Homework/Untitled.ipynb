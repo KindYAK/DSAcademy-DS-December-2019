{
 "cells": [
  {
   "cell_type": "code",
   "execution_count": 1,
   "metadata": {},
   "outputs": [],
   "source": [
    "import pandas as pd"
   ]
  },
  {
   "cell_type": "code",
   "execution_count": 2,
   "metadata": {},
   "outputs": [],
   "source": [
    "df = pd.read_excel(\"Schools Data.xlsx\")"
   ]
  },
  {
   "cell_type": "code",
   "execution_count": 26,
   "metadata": {},
   "outputs": [
    {
     "data": {
      "text/plain": [
       "['Unnamed: 0',\n",
       " 'ID',\n",
       " 'region',\n",
       " 'school_type',\n",
       " 'total_students_2018',\n",
       " 'total_after_9_2018',\n",
       " 'total_after_11_2018',\n",
       " 'diff_teens_2018',\n",
       " 'deficit_places_2018',\n",
       " '3_times_school_2018',\n",
       " 'barrier_free_2018',\n",
       " 'stud_have_book_count_2018',\n",
       " 'ip_higher_4mb_2018',\n",
       " 'poor_fams_2018',\n",
       " 'poor_fams_food_2018',\n",
       " 'dorms_for_villages_2018',\n",
       " 'total_teachers_2018',\n",
       " 'teachers_1_category_2018',\n",
       " 'higher_edu_teachers_2017',\n",
       " 'master_teachers',\n",
       " 'out_of_system_teachers_2018',\n",
       " 'in_emergency_2018',\n",
       " 'need_repair_2018',\n",
       " 'school_city_dist',\n",
       " 'only_out_toilet_2018',\n",
       " 'school_density_in_10km',\n",
       " 'school_density_in_3km',\n",
       " 'school_density_in1.5km',\n",
       " 'out_in_toilets_2018',\n",
       " 'total_comp_2018',\n",
       " 'interactive_boards_2017',\n",
       " 'cameras__2017',\n",
       " 'messa_2018',\n",
       " 'sport_stud',\n",
       " 'art_stud',\n",
       " 'appl_art_stud',\n",
       " 'technical_stud',\n",
       " 'soc_student',\n",
       " 'bio_eco_stud',\n",
       " 'tourist_stud',\n",
       " 'nat_math_stud',\n",
       " 'lang_stud',\n",
       " 'other_stud',\n",
       " 'add_edu_stud',\n",
       " 'high_category_teachers_2018',\n",
       " 'eng_informatics_teachers',\n",
       " 'eng_phys_teachers',\n",
       " 'eng_chem_teachers',\n",
       " 'eng_bio_teachers',\n",
       " 'location',\n",
       " 'tip_organizacii_obrazovaniya',\n",
       " 'open_date',\n",
       " 'student_delivery',\n",
       " 'magnet_school',\n",
       " 'num_libraries',\n",
       " 'library_area',\n",
       " 'number_library_reading_rooms',\n",
       " 'library_reading_room_sitting_places',\n",
       " 'library_num_of_readers',\n",
       " 'library_num_of_visits',\n",
       " 'given_books',\n",
       " 'library_books_overall',\n",
       " 'ebooks_count_2017',\n",
       " 'canteen',\n",
       " 'canteen_places',\n",
       " 'buffet',\n",
       " 'buffet_places',\n",
       " 'nutrition_in_apapted_premises',\n",
       " 'computer_availability_2017',\n",
       " 'computer_overall_2017',\n",
       " 'computer_w_internet_2017',\n",
       " 'computers_education',\n",
       " 'computer_for_teacher_2017',\n",
       " 'comp_count_need_repair_2017',\n",
       " 'internet_speed_mbit_2017',\n",
       " 'interactive_boards_2017.1',\n",
       " 'gym_2017',\n",
       " 'gym_equipment_2017',\n",
       " 'civil_protection_alert_system_2017',\n",
       " 'panic_button_2017',\n",
       " 'tourniquet_2017',\n",
       " 'museum',\n",
       " 'camp_2017',\n",
       " 'building_type_typical',\n",
       " 'heating_type_2017',\n",
       " 'building_condition_2017',\n",
       " 'building_type_2017',\n",
       " 'building_capacity_2017',\n",
       " 'hot_water_2017',\n",
       " 'import_water',\n",
       " 'building_area_2017',\n",
       " 'building_working_area_2017',\n",
       " 'building_ownership_2017',\n",
       " 'landscaping',\n",
       " 'toilet_2017',\n",
       " 'classrooms_num',\n",
       " 'classrooms_area',\n",
       " 'lingaphone_cab_2017',\n",
       " 'lingaphone_multimedia_cab_2017',\n",
       " 'med_cab_2017',\n",
       " 'edu_lang_2017',\n",
       " 'future_edu_lang_2017',\n",
       " 'spec_school_2017',\n",
       " 'edu_from_class_num_2017',\n",
       " 'spec_edu_from_class_num_2017',\n",
       " 'deep_spec_edu_classes_2017',\n",
       " 'clubs_2017',\n",
       " 'musical_club',\n",
       " 'shift_count_2017',\n",
       " 'special_classes',\n",
       " 'prolonged_day_groups',\n",
       " 'combined_class_2017',\n",
       " 'class_count_2017',\n",
       " 'class_count_1_shift_2017',\n",
       " 'class_count_2_shift_2017',\n",
       " 'class_count_3_shift_2017',\n",
       " 'class_count_4_shift_2017',\n",
       " 'total_after_9_2017',\n",
       " 'college_after_9_2017',\n",
       " 'applied_10_after_9_2017',\n",
       " 'total_after_11_2017',\n",
       " 'total_teachers_2017',\n",
       " 'academic_degree_teachers_2017',\n",
       " 'qualified_teachers_2017',\n",
       " 'eng_lang_teachers_2017',\n",
       " 'out_of_system_teachers_2017',\n",
       " 'need_teachers_2017',\n",
       " 'staff_num',\n",
       " 'zavuch_num',\n",
       " 'high_category_teachers_2017',\n",
       " 'teachers_1_category_2017',\n",
       " 'teachers_2_category_2017',\n",
       " 'teachers_no_category_2017',\n",
       " 'experience_teachers_under_3_years_2017',\n",
       " 'experience_teachers_between_3_5_years_2017',\n",
       " 'experience_teachers_between_6_10_years_2017',\n",
       " 'experience_teachers_between_11_15_years_2017',\n",
       " 'experience_teachers_between_16_20_years_2017',\n",
       " 'experience_teachers_20+_years_2017',\n",
       " 'higher_edu_teachers_2017.1',\n",
       " 'tech_spec_edu_teachers_2017',\n",
       " 'middle_edu_teachers_2017',\n",
       " 'age_teachers_under_25_2017',\n",
       " 'age_teachers_between_25_29_2017',\n",
       " 'age_teachers_between_30_34_2017',\n",
       " 'age_teachers_between_35_39_2017',\n",
       " 'age_teachers_between_40_44_2017',\n",
       " 'age_teachers_between_45_49_2017',\n",
       " 'age_teachers_between_50_54_2017',\n",
       " 'age_teachers_between_55_59_2017',\n",
       " 'age_teachers_59+_years_2017',\n",
       " 'retired_age_man_teachers_2017',\n",
       " 'retired_age_woman_teachers_2017',\n",
       " 'total_students_2017',\n",
       " 'boys_2017',\n",
       " 'girls_2017',\n",
       " 'evening_students',\n",
       " 'using_clubs_students_2017',\n",
       " 'students_without_parents_2017',\n",
       " 'disabled_students',\n",
       " 'students_without_parent_help_2017',\n",
       " 'student_with_financial_aid',\n",
       " 'student_books_2017',\n",
       " 'hot_food_2017',\n",
       " 'free_hot_food_2017',\n",
       " 'student_edu_lang_rus_2017',\n",
       " 'student_edu_lang_kaz_2017',\n",
       " 'student_edu_lang_uyghur_2017',\n",
       " 'student_edu_lang_uzbek_2017',\n",
       " 'student_edu_lang_tadjik_2017',\n",
       " 'russian_students',\n",
       " 'kazakh_students',\n",
       " 'other_nationality_students',\n",
       " 'classrooms_per_student',\n",
       " 'classroom_average_area',\n",
       " 'working_area_ratio',\n",
       " 'diagnostic_cab',\n",
       " 'audiologist_cab',\n",
       " 'psychiatrist_cab',\n",
       " 'dentist_cab',\n",
       " 'psychologist_cab',\n",
       " 'no_special_cabs',\n",
       " 'medical_physical_cab',\n",
       " 'neuropatologist_cab',\n",
       " 'medical_cab',\n",
       " 'pedagog_psychologist_cab',\n",
       " 'кабинет психиатра ',\n",
       " 'police_inspector_cab',\n",
       " 'speech_terapist_cab',\n",
       " 'ophtalmologist_cab',\n",
       " 'average_students_per_class',\n",
       " 'average_students_per_teacher',\n",
       " 'average_staff_per_area',\n",
       " 'sex_diversity_index',\n",
       " 'total_students_1',\n",
       " 'total_students_2',\n",
       " 'total_students_3',\n",
       " 'total_students_4',\n",
       " 'total_students_5',\n",
       " 'total_students_6',\n",
       " 'total_students_7',\n",
       " 'total_students_8',\n",
       " 'total_students_9',\n",
       " 'total_students_10',\n",
       " 'total_students_11',\n",
       " 'nationality_diversity_index',\n",
       " 'load_ratio',\n",
       " 'drinking_water_presence',\n",
       " 'qedu_top_uni',\n",
       " 'qedu_passed_ent',\n",
       " 'qedu_continued_education',\n",
       " 'qedu_elite_achievements']"
      ]
     },
     "execution_count": 26,
     "metadata": {},
     "output_type": "execute_result"
    }
   ],
   "source": [
    "list(df.columns)"
   ]
  },
  {
   "cell_type": "code",
   "execution_count": 19,
   "metadata": {},
   "outputs": [
    {
     "data": {
      "text/plain": [
       "г.Караганда            83\n",
       "г.Актобе               66\n",
       "г.Тараз                64\n",
       "г.Кызылорда            53\n",
       "г.Атырау               53\n",
       "г.Уральск              52\n",
       "г.Семей                51\n",
       "г.Павлодар             50\n",
       "г.Усть-Каменогорск     49\n",
       "г.Петропавловск        39\n",
       "г.Костанай             33\n",
       "Ауэзовский район       32\n",
       "Бостандыкский район    32\n",
       "г.Экибастуз            29\n",
       "г.Туркестан            29\n",
       "г.Темиртау             29\n",
       "Алмалинский район      28\n",
       "район «Сарыарка»       28\n",
       "г.Талдыкорган          27\n",
       "район «Алматы»         26\n",
       "Медеуский район        26\n",
       "с.Жамбыл               25\n",
       "Турксибский район      25\n",
       "г.Актау                25\n",
       "Алатауский район       24\n",
       "с.Аксу                 22\n",
       "г.Кокшетау             21\n",
       "с.Карабулак            20\n",
       "г.Жанаозен             20\n",
       "Жетысуский район       19\n",
       "                       ..\n",
       "с.Урыль                 1\n",
       "с.Орта Дересин          1\n",
       "с.Екпенди               1\n",
       "а. Мерген               1\n",
       "с.Ковыленка             1\n",
       "а.Карлыколь             1\n",
       "аул Алтынды             1\n",
       "с.Златополье            1\n",
       "с.Садыр                 1\n",
       "ст.Камыстыбас           1\n",
       "с.Кумкудык              1\n",
       "с.Акжайык               1\n",
       "с.Станционное           1\n",
       "аул Кыземшек            1\n",
       "с.Жуковка               1\n",
       "с.Шенгер                1\n",
       "а.Карасай               1\n",
       "с.Чистый Чандак         1\n",
       "с.Белтерек              1\n",
       "с.Байгекум              1\n",
       "а.Чайковское            1\n",
       "с.Кожатогай             1\n",
       "с.Песчанка              1\n",
       "с.Сокол                 1\n",
       "а.Куншалган             1\n",
       "с.Переменовка           1\n",
       "с.Кошевое               1\n",
       "с.Сарыман               1\n",
       "с.Доненбай              1\n",
       "с.Сарыадыр              1\n",
       "Name: location, Length: 3148, dtype: int64"
      ]
     },
     "execution_count": 19,
     "metadata": {},
     "output_type": "execute_result"
    }
   ],
   "source": []
  },
  {
   "cell_type": "code",
   "execution_count": 82,
   "metadata": {},
   "outputs": [],
   "source": [
    "df_r = pd.DataFrame(index=df['location'].unique())"
   ]
  },
  {
   "cell_type": "code",
   "execution_count": 83,
   "metadata": {},
   "outputs": [],
   "source": [
    "df_r['number_of_schools'] = 0\n",
    "df_r['percent_no_internet'] = 0.0"
   ]
  },
  {
   "cell_type": "code",
   "execution_count": 92,
   "metadata": {
    "scrolled": false
   },
   "outputs": [
    {
     "name": "stderr",
     "output_type": "stream",
     "text": [
      "C:\\Users\\KindYAK\\Anaconda3\\envs\\def\\lib\\site-packages\\ipykernel_launcher.py:4: UserWarning: Boolean Series key will be reindexed to match DataFrame index.\n",
      "  after removing the cwd from sys.path.\n"
     ]
    }
   ],
   "source": [
    "v_c = df['location'].value_counts()\n",
    "for city in df_r.index:\n",
    "    df_r.loc[city, 'number_of_schools'] = v_c[city]\n",
    "    num_no_internet = len(df[df['internet_speed_mbit_2017'] == 0][df['location'] == city])\n",
    "    df_r.loc[city, 'percent_no_internet'] = num_no_internet / v_c[city]"
   ]
  },
  {
   "cell_type": "code",
   "execution_count": 93,
   "metadata": {},
   "outputs": [
    {
     "data": {
      "text/plain": [
       "0.000000    2612\n",
       "1.000000     365\n",
       "0.500000      57\n",
       "0.333333      32\n",
       "0.250000      18\n",
       "0.200000       9\n",
       "0.166667       8\n",
       "0.666667       6\n",
       "0.125000       5\n",
       "0.142857       4\n",
       "0.111111       4\n",
       "0.038462       3\n",
       "0.100000       3\n",
       "0.056604       2\n",
       "0.083333       2\n",
       "0.181818       2\n",
       "0.071429       2\n",
       "0.285714       1\n",
       "0.307692       1\n",
       "0.400000       1\n",
       "0.272727       1\n",
       "0.040000       1\n",
       "0.235294       1\n",
       "0.160000       1\n",
       "0.046875       1\n",
       "0.031250       1\n",
       "0.041667       1\n",
       "0.030303       1\n",
       "0.034483       1\n",
       "0.263158       1\n",
       "0.133333       1\n",
       "Name: percent_no_internet, dtype: int64"
      ]
     },
     "execution_count": 93,
     "metadata": {},
     "output_type": "execute_result"
    }
   ],
   "source": [
    "df_r['percent_no_internet'].value_counts()"
   ]
  },
  {
   "cell_type": "code",
   "execution_count": 54,
   "metadata": {},
   "outputs": [
    {
     "name": "stderr",
     "output_type": "stream",
     "text": [
      "C:\\Users\\KindYAK\\Anaconda3\\envs\\def\\lib\\site-packages\\ipykernel_launcher.py:1: UserWarning: Boolean Series key will be reindexed to match DataFrame index.\n",
      "  \"\"\"Entry point for launching an IPython kernel.\n"
     ]
    }
   ],
   "source": [
    "num_no_internet = len(df[df['internet_speed_mbit_2017'] == 0][df['location'] == \"г.Караганда\"])"
   ]
  },
  {
   "cell_type": "code",
   "execution_count": 58,
   "metadata": {},
   "outputs": [
    {
     "data": {
      "text/plain": [
       "0.0"
      ]
     },
     "execution_count": 58,
     "metadata": {},
     "output_type": "execute_result"
    }
   ],
   "source": [
    "num_no_internet / v_c['г.Караганда']"
   ]
  },
  {
   "cell_type": "code",
   "execution_count": 56,
   "metadata": {},
   "outputs": [
    {
     "data": {
      "text/plain": [
       "0"
      ]
     },
     "execution_count": 56,
     "metadata": {},
     "output_type": "execute_result"
    }
   ],
   "source": [
    "num_no_internet"
   ]
  },
  {
   "cell_type": "code",
   "execution_count": null,
   "metadata": {},
   "outputs": [],
   "source": []
  }
 ],
 "metadata": {
  "kernelspec": {
   "display_name": "Python 3",
   "language": "python",
   "name": "python3"
  },
  "language_info": {
   "codemirror_mode": {
    "name": "ipython",
    "version": 3
   },
   "file_extension": ".py",
   "mimetype": "text/x-python",
   "name": "python",
   "nbconvert_exporter": "python",
   "pygments_lexer": "ipython3",
   "version": "3.6.7"
  }
 },
 "nbformat": 4,
 "nbformat_minor": 2
}
